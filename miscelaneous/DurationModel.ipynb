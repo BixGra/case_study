{
 "cells": [
  {
   "cell_type": "code",
   "execution_count": 1,
   "metadata": {
    "collapsed": true
   },
   "outputs": [],
   "source": [
    "import random\n",
    "\n",
    "import numpy as np"
   ]
  },
  {
   "cell_type": "code",
   "execution_count": 2,
   "outputs": [],
   "source": [
    "# Settings\n",
    "\n",
    "DURATIONS = {\n",
    "    \"no action\": np.load(f'../data/durations/durations_no_action.npy'),\n",
    "    \"run\": np.load(f'../data/durations/durations_run.npy'),\n",
    "    \"pass\": np.load(f'../data/durations/durations_pass.npy'),\n",
    "    \"rest\": np.load(f'../data/durations/durations_rest.npy'),\n",
    "    \"walk\": np.load(f'../data/durations/durations_walk.npy'),\n",
    "    \"dribble\": np.load(f'../data/durations/durations_dribble.npy'),\n",
    "    \"shot\": np.load(f'../data/durations/durations_shot.npy'),\n",
    "    \"tackle\": np.load(f'../data/durations/durations_tackle.npy'),\n",
    "    \"cross\": np.load(f'../data/durations/durations_cross.npy'),\n",
    "}\n",
    "\n",
    "DISTRIBUTIONS = {\n",
    "    \"no action\": np.load(f'../data/distributions/distributions_no_action.npy'),\n",
    "    \"run\": np.load(f'../data/distributions/distributions_run.npy'),\n",
    "    \"pass\": np.load(f'../data/distributions/distributions_pass.npy'),\n",
    "    \"rest\": np.load(f'../data/distributions/distributions_rest.npy'),\n",
    "    \"walk\": np.load(f'../data/distributions/distributions_walk.npy'),\n",
    "    \"dribble\": np.load(f'../data/distributions/distributions_dribble.npy'),\n",
    "    \"shot\": np.load(f'../data/distributions/distributions_shot.npy'),\n",
    "    \"tackle\": np.load(f'../data/distributions/distributions_tackle.npy'),\n",
    "    \"cross\": np.load(f'../data/distributions/distributions_cross.npy'),\n",
    "}"
   ],
   "metadata": {
    "collapsed": false
   }
  },
  {
   "cell_type": "code",
   "execution_count": 3,
   "outputs": [],
   "source": [
    "# Model\n",
    "\n",
    "class DurationModel:\n",
    "    def __init__(self):\n",
    "        pass\n",
    "\n",
    "    @staticmethod\n",
    "    def predict(x: str) -> int:\n",
    "        output = int(random.choices(DURATIONS[x], weights=DISTRIBUTIONS[x])[0])\n",
    "        return output"
   ],
   "metadata": {
    "collapsed": false
   }
  },
  {
   "cell_type": "code",
   "execution_count": 4,
   "outputs": [
    {
     "name": "stdout",
     "output_type": "stream",
     "text": [
      "dribble 26\n",
      "cross 35\n",
      "walk 51\n",
      "walk 61\n",
      "rest 136\n",
      "tackle 37\n",
      "walk 90\n",
      "walk 45\n",
      "shot 27\n",
      "pass 39\n"
     ]
    }
   ],
   "source": [
    "model = DurationModel()\n",
    "\n",
    "n = 20\n",
    "def predict():\n",
    "    key = random.choice(list(DURATIONS.keys()))\n",
    "    print(key, model.predict(key))\n",
    "\n",
    "for i in range(10):\n",
    "    predict()"
   ],
   "metadata": {
    "collapsed": false
   }
  }
 ],
 "metadata": {
  "kernelspec": {
   "display_name": "Python 3",
   "language": "python",
   "name": "python3"
  },
  "language_info": {
   "codemirror_mode": {
    "name": "ipython",
    "version": 2
   },
   "file_extension": ".py",
   "mimetype": "text/x-python",
   "name": "python",
   "nbconvert_exporter": "python",
   "pygments_lexer": "ipython2",
   "version": "2.7.6"
  }
 },
 "nbformat": 4,
 "nbformat_minor": 0
}
