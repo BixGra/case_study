{
 "cells": [
  {
   "cell_type": "code",
   "execution_count": 1,
   "outputs": [],
   "source": [
    "import random\n",
    "\n",
    "import numpy as np"
   ],
   "metadata": {
    "collapsed": false
   }
  },
  {
   "cell_type": "code",
   "execution_count": 2,
   "outputs": [],
   "source": [
    "# Settings\n",
    "\n",
    "Y_INFS = {\n",
    "    \"no action\": np.load(f'../data/y_infs/y_inf_no_action.npy'),\n",
    "    \"run\": np.load(f'../data/y_infs/y_inf_run.npy'),\n",
    "    \"pass\": np.load(f'../data/y_infs/y_inf_pass.npy'),\n",
    "    \"rest\": np.load(f'../data/y_infs/y_inf_rest.npy'),\n",
    "    \"walk\": np.load(f'../data/y_infs/y_inf_walk.npy'),\n",
    "    \"dribble\": np.load(f'../data/y_infs/y_inf_dribble.npy'),\n",
    "    \"shot\": np.load(f'../data/y_infs/y_inf_shot.npy'),\n",
    "    \"tackle\": np.load(f'../data/y_infs/y_inf_tackle.npy'),\n",
    "    \"cross\": np.load(f'../data/y_infs/y_inf_cross.npy'),\n",
    "}\n",
    "\n",
    "Y_SUPS = {\n",
    "    \"no action\": np.load(f'../data/y_sups/y_sup_no_action.npy'),\n",
    "    \"run\": np.load(f'../data/y_sups/y_sup_run.npy'),\n",
    "    \"pass\": np.load(f'../data/y_sups/y_sup_pass.npy'),\n",
    "    \"rest\": np.load(f'../data/y_sups/y_sup_rest.npy'),\n",
    "    \"walk\": np.load(f'../data/y_sups/y_sup_walk.npy'),\n",
    "    \"dribble\": np.load(f'../data/y_sups/y_sup_dribble.npy'),\n",
    "    \"shot\": np.load(f'../data/y_sups/y_sup_shot.npy'),\n",
    "    \"tackle\": np.load(f'../data/y_sups/y_sup_tackle.npy'),\n",
    "    \"cross\": np.load(f'../data/y_sups/y_sup_cross.npy'),\n",
    "}"
   ],
   "metadata": {
    "collapsed": false
   }
  },
  {
   "cell_type": "code",
   "execution_count": 3,
   "outputs": [],
   "source": [
    "# Model\n",
    "\n",
    "class NormModel:\n",
    "    def __init__(self):\n",
    "        pass\n",
    "\n",
    "    @staticmethod\n",
    "    def predict(x: int, action: str) -> list[float]:\n",
    "        x_ = np.linspace(0, 719, x).astype(np.integer)\n",
    "        output = [random.uniform(Y_INFS[action][i], Y_SUPS[action][i]) for i in x_]\n",
    "        return output"
   ],
   "metadata": {
    "collapsed": false
   }
  },
  {
   "cell_type": "code",
   "execution_count": 4,
   "outputs": [
    {
     "name": "stdout",
     "output_type": "stream",
     "text": [
      "walk [23.917380743839082, 19.512568087551443, 17.381689390371303, 17.83251098456968, 51.96147909852065, 26.139561500787128]\n",
      "tackle [48.873742019154186, 44.4275479845605, 103.99882776452571, 159.47522685561697, 58.98349733839861]\n",
      "rest [22.91508519755898, 24.857450118454164, 24.85326592324751, 19.17961903113865, 24.335922877822732]\n",
      "no action [96.8071777209837, 142.36504268975114, 19.46509063346919, 19.572783001082435, 35.003833971080134, 24.189127019539225, 24.63303256625788]\n",
      "no action [71.90219471522104, 184.38765116740927, 19.18646279166586, 19.702673037391367, 27.365688881358025, 24.460791841917448, 23.925381509834065]\n",
      "cross [40.85447078956094, 140.00116900730188, 130.13708465643325]\n",
      "no action [86.00180500978117, 19.010246456439845, 24.87057657232298, 25.866100086398752]\n",
      "run [68.98706005013061, 34.85397764411324, 39.734147425312116, 92.22444563622814, 5.2798254406070395, 91.69542802498398, 61.111331165531155, 63.94860544209621]\n",
      "dribble [18.385285489210414, 77.59530485422522, 19.852301449236418, 121.01845647004117, 56.8861031751624]\n",
      "shot [93.68430706887708, 94.28902682092928, 100.60756624976841, 291.2024217173836, 66.09521734715348, 222.87378066135534, 210.00812962877254, 148.15537182251126, 44.34815172730245]\n"
     ]
    },
    {
     "name": "stderr",
     "output_type": "stream",
     "text": [
      "/tmp/ipykernel_29003/4007055589.py:9: DeprecationWarning: Converting `np.integer` or `np.signedinteger` to a dtype is deprecated. The current result is `np.dtype(np.int_)` which is not strictly correct. Note that the result depends on the system. To ensure stable results use may want to use `np.int64` or `np.int32`.\n",
      "  x_ = np.linspace(0, 719, x).astype(np.integer)\n"
     ]
    }
   ],
   "source": [
    "model = NormModel()\n",
    "\n",
    "n = 20\n",
    "def predict():\n",
    "    key = random.choice(list(Y_SUPS.keys()))\n",
    "    x = random.randint(3, 10)\n",
    "    print(key, model.predict(x, key))\n",
    "\n",
    "for i in range(10):\n",
    "    predict()"
   ],
   "metadata": {
    "collapsed": false
   }
  }
 ],
 "metadata": {
  "kernelspec": {
   "display_name": "Python 3",
   "language": "python",
   "name": "python3"
  },
  "language_info": {
   "codemirror_mode": {
    "name": "ipython",
    "version": 2
   },
   "file_extension": ".py",
   "mimetype": "text/x-python",
   "name": "python",
   "nbconvert_exporter": "python",
   "pygments_lexer": "ipython2",
   "version": "2.7.6"
  }
 },
 "nbformat": 4,
 "nbformat_minor": 0
}
