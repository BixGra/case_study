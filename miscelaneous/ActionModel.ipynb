{
 "cells": [
  {
   "cell_type": "code",
   "execution_count": 1,
   "metadata": {
    "collapsed": true
   },
   "outputs": [],
   "source": [
    "import json\n",
    "import random\n",
    "import time\n",
    "\n",
    "import numpy as np\n",
    "import torch\n",
    "import torch.nn as nn\n",
    "import torch.optim as optim\n",
    "from torch import Tensor\n",
    "from torch.utils.data import DataLoader"
   ]
  },
  {
   "cell_type": "code",
   "execution_count": 2,
   "outputs": [],
   "source": [
    "# Settings\n",
    "\n",
    "cuda = torch.cuda.is_available()\n",
    "device = torch.device(\"cuda:0\" if cuda else \"cpu\")\n",
    "\n",
    "batch_size = 1\n",
    "num_workers = 1\n",
    "sequence_length = 3\n",
    "learning_rate = 1e-3\n",
    "\n",
    "params = {\"batch_size\": batch_size, \"shuffle\": True, \"num_workers\": num_workers}\n",
    "\n",
    "match_1 = json.load(open(\"../data/dataset/match_1.json\"))\n",
    "match_2 = json.load(open(\"../data/dataset/match_2.json\"))\n",
    "\n",
    "ACTIONS = {\n",
    "    \"no action\": torch.tensor([1, 0, 0, 0, 0, 0, 0, 0, 0]),\n",
    "    \"run\": torch.tensor([0, 1, 0, 0, 0, 0, 0, 0, 0]),\n",
    "    \"pass\": torch.tensor([0, 0, 1, 0, 0, 0, 0, 0, 0]),\n",
    "    \"rest\": torch.tensor([0, 0, 0, 1, 0, 0, 0, 0, 0]),\n",
    "    \"walk\": torch.tensor([0, 0, 0, 0, 1, 0, 0, 0, 0]),\n",
    "    \"dribble\": torch.tensor([0, 0, 0, 0, 0, 1, 0, 0, 0]),\n",
    "    \"shot\": torch.tensor([0, 0, 0, 0, 0, 0, 1, 0, 0]),\n",
    "    \"tackle\": torch.tensor([0, 0, 0, 0, 0, 0, 0, 1, 0]),\n",
    "    \"cross\": torch.tensor([0, 0, 0, 0, 0, 0, 0, 0, 1]),\n",
    "}"
   ],
   "metadata": {
    "collapsed": false
   }
  },
  {
   "cell_type": "code",
   "execution_count": 3,
   "outputs": [],
   "source": [
    "# Data formatting\n",
    "\n",
    "def generate_subsequences(sequence, subsequence_length):\n",
    "    for i in range(len(sequence) - subsequence_length + 1):\n",
    "        yield sequence[i:i+subsequence_length]\n",
    "\n",
    "actions_1 = list(map(lambda x: x[\"label\"], match_1))\n",
    "actions_2 = list(map(lambda x: x[\"label\"], match_2))\n",
    "subsequences = [i for i in generate_subsequences(actions_1, sequence_length + 1)] + [i for i in generate_subsequences(actions_2, sequence_length + 1)]\n",
    "probability = dict()\n",
    "\n",
    "def populate_prob(dictionary, x):\n",
    "    dictionary[\"-\".join(x[:-1])] = dictionary.get(\"-\".join(x[:-1]) ,torch.tensor([0, 0, 0, 0, 0, 0, 0, 0, 0])) + ACTIONS[x[sequence_length]]\n",
    "\n",
    "list(map(lambda x: populate_prob(probability, x), subsequences))\n",
    "probability = dict(map(lambda x: (x, probability[x]/sum(probability[x])), probability))\n",
    "\n",
    "data = [i for i in generate_subsequences(actions_1, sequence_length)] + [i for i in generate_subsequences(actions_2, sequence_length)]\n",
    "dataset = list(map(lambda d: (torch.cat(list(map(lambda x: (torch.unsqueeze(ACTIONS[x], 0)), d)), dim=-2).type(torch.float), probability['-'.join(d)].type(torch.float)), data))\n",
    "loader = DataLoader(dataset, **params)"
   ],
   "metadata": {
    "collapsed": false
   }
  },
  {
   "cell_type": "code",
   "execution_count": 4,
   "outputs": [],
   "source": [
    "# Model\n",
    "\n",
    "class ExtractLSTM(nn.Module):\n",
    "    def forward(self, x):\n",
    "        tensor, _ = x\n",
    "        return tensor[:, -1, :]\n",
    "\n",
    "class Model(nn.Module):\n",
    "    def __init__(self):\n",
    "        super(Model, self).__init__()\n",
    "        self.fc = nn.Identity()\n",
    "\n",
    "    def forward(self, x: Tensor) -> Tensor:\n",
    "        output = self.fc(x)\n",
    "        return output\n",
    "\n",
    "    def save(self, path: str=\"../models\") -> str:\n",
    "        name = f\"{self._get_name()}_{int(time.time())}\"\n",
    "        torch.save(self.fc.state_dict(), f\"{path.rstrip('/')}/{name}\")\n",
    "        return name\n",
    "\n",
    "    def load(self, model_path: str):\n",
    "        self.fc.load_state_dict(torch.load(model_path))\n",
    "        self.eval()\n",
    "        return self\n",
    "\n",
    "class ActionModel(Model):\n",
    "    def __init__(self, sequence_length: int=3):\n",
    "        super(ActionModel, self).__init__()\n",
    "        self.sequence_length = sequence_length\n",
    "        self.fc = nn.Sequential(\n",
    "            nn.LSTM(9, 5, self.sequence_length),\n",
    "            ExtractLSTM(),\n",
    "            nn.Linear(5, 9),\n",
    "            nn.Sigmoid()\n",
    "        )\n",
    "\n",
    "    def forward(self, x: Tensor) -> Tensor:\n",
    "        output = self.fc(x)\n",
    "        return output\n",
    "\n",
    "    def predict(self, x: Tensor) -> str:\n",
    "        output = self(x)\n",
    "        output = random.choices(list(ACTIONS.items()), weights=torch.squeeze(torch.squeeze(output, dim=0), dim=0))[0]\n",
    "        return output\n",
    "\n",
    "def train(loader: DataLoader, model: Model, criterion: nn.Module, optimizer: optim, num_epochs: int=10) -> list[np.ndarray]:\n",
    "    \"\"\"\n",
    "    Train function\n",
    "    \"\"\"\n",
    "    start_time = time.time()\n",
    "    losses = []\n",
    "    for epoch in range(num_epochs):\n",
    "        if len(losses)>3 and round(max(losses[-3:]), 3) == round(min(losses[-3:]), 3):\n",
    "            print(\"Stopped by stable loss\")\n",
    "            break\n",
    "        losses_ = []\n",
    "        for data in loader:\n",
    "            #Data loading\n",
    "            x = data[0]\n",
    "            y = data[1]\n",
    "            if cuda:\n",
    "                x = data[0].cuda()\n",
    "                y = data[1].cuda()\n",
    "            x.requires_grad = True\n",
    "            y.requires_grad = True\n",
    "            output = model(x)\n",
    "            #Backpropagation\n",
    "            optimizer.zero_grad()\n",
    "            loss = criterion(y, output)\n",
    "            loss.backward()\n",
    "            optimizer.step()\n",
    "            #Display & metrics\n",
    "            losses_.append(float(loss))\n",
    "            print('Epoch {:>4} of {}, Train Loss: {:5.2f}, Elapsed time: {:.2f}'.format(epoch+1, num_epochs, losses_[-1], time.time()-start_time),end=\"\\r\",flush=True)\n",
    "        losses.append(np.mean(losses_))\n",
    "        print('Epoch {:>4} of {}, Train Loss: {:5.2f}, Elapsed time: {:.2f}'.format(epoch+1, num_epochs, losses[-1], time.time()-start_time),end=\"\\n\",flush=True)\n",
    "    return losses"
   ],
   "metadata": {
    "collapsed": false
   }
  },
  {
   "cell_type": "code",
   "execution_count": 5,
   "outputs": [
    {
     "name": "stdout",
     "output_type": "stream",
     "text": [
      "Epoch    1 of 10, Train Loss:  0.06, Elapsed time: 3.14\n",
      "Epoch    2 of 10, Train Loss:  0.03, Elapsed time: 5.94\n",
      "Epoch    3 of 10, Train Loss:  0.03, Elapsed time: 8.68\n",
      "Epoch    4 of 10, Train Loss:  0.02, Elapsed time: 11.41\n",
      "Epoch    5 of 10, Train Loss:  0.01, Elapsed time: 14.13\n",
      "Epoch    6 of 10, Train Loss:  0.01, Elapsed time: 16.83\n",
      "Epoch    7 of 10, Train Loss:  0.01, Elapsed time: 19.80\n",
      "Epoch    8 of 10, Train Loss:  0.01, Elapsed time: 22.61\n",
      "Epoch    9 of 10, Train Loss:  0.01, Elapsed time: 26.08\n",
      "Epoch   10 of 10, Train Loss:  0.01, Elapsed time: 29.38\n"
     ]
    },
    {
     "data": {
      "text/plain": "'ActionModel_1698809867'"
     },
     "execution_count": 5,
     "metadata": {},
     "output_type": "execute_result"
    }
   ],
   "source": [
    "model = ActionModel()\n",
    "\n",
    "losses = train(loader, model, nn.MSELoss(), optim.Adam(model.parameters(), lr=learning_rate), 10)\n",
    "\n",
    "model.save()"
   ],
   "metadata": {
    "collapsed": false
   }
  },
  {
   "cell_type": "code",
   "execution_count": 6,
   "outputs": [
    {
     "name": "stdout",
     "output_type": "stream",
     "text": [
      "Prediction of length 20\n",
      "walk -> walk -> walk -> rest -> rest -> walk -> walk -> run -> dribble -> walk -> walk -> walk -> walk -> walk -> run -> run -> run -> run -> run -> run\n",
      "\n",
      "Prediction of length 20\n",
      "run -> run -> run -> run -> run -> run -> run -> run -> run -> dribble -> walk -> no action -> walk -> dribble -> pass -> walk -> walk -> walk -> walk -> rest\n",
      "\n",
      "Prediction of length 20\n",
      "run -> rest -> walk -> dribble -> run -> run -> run -> run -> run -> run -> run -> walk -> walk -> pass -> walk -> walk -> dribble -> dribble -> pass -> walk\n",
      "\n",
      "Prediction of length 20\n",
      "run -> run -> dribble -> dribble -> shot -> walk -> shot -> run -> tackle -> run -> run -> run -> run -> run -> shot -> dribble -> run -> run -> run -> run\n",
      "\n",
      "Prediction of length 20\n",
      "walk -> rest -> walk -> walk -> pass -> run -> run -> run -> dribble -> shot -> run -> run -> tackle -> run -> run -> pass -> walk -> cross -> run -> run\n",
      "\n",
      "Prediction of length 20\n",
      "run -> run -> run -> run -> run -> dribble -> dribble -> walk -> rest -> rest -> walk -> cross -> dribble -> run -> run -> tackle -> run -> walk -> rest -> walk\n",
      "\n",
      "Prediction of length 20\n",
      "run -> run -> run -> run -> run -> run -> no action -> walk -> pass -> walk -> run -> pass -> walk -> walk -> walk -> walk -> dribble -> dribble -> dribble -> dribble\n",
      "\n",
      "Prediction of length 20\n",
      "tackle -> run -> run -> run -> walk -> walk -> walk -> dribble -> walk -> rest -> walk -> walk -> run -> run -> run -> run -> run -> run -> run -> walk\n",
      "\n",
      "Prediction of length 20\n",
      "run -> run -> run -> run -> run -> run -> run -> run -> run -> run -> dribble -> run -> run -> run -> shot -> dribble -> dribble -> walk -> dribble -> dribble\n",
      "\n",
      "Prediction of length 20\n",
      "walk -> run -> run -> run -> run -> run -> run -> tackle -> pass -> run -> run -> run -> run -> run -> run -> run -> run -> run -> shot -> walk\n",
      "\n"
     ]
    }
   ],
   "source": [
    "n = 20\n",
    "def predict(n, sequence_length):\n",
    "    \"\"\"\n",
    "    predict n actions\n",
    "    \"\"\"\n",
    "    keys = list()\n",
    "    tensors = [torch.randn([9]) for _ in range(sequence_length)]\n",
    "    print(f\"Prediction of length {n}\")\n",
    "    for i in range(n):\n",
    "        x = torch.unsqueeze(torch.cat(list(map(lambda t: torch.unsqueeze(t, dim=0), tensors[-sequence_length:])), dim=0).type(torch.float), dim=0)\n",
    "        key, output = model.predict(x)\n",
    "        keys.append(key)\n",
    "        tensors.append(torch.squeeze(output, dim=0))\n",
    "\n",
    "    print(\" -> \".join(keys), end=\"\\n\\n\")\n",
    "\n",
    "for i in range(10):\n",
    "    predict(n, sequence_length)"
   ],
   "metadata": {
    "collapsed": false
   }
  }
 ],
 "metadata": {
  "kernelspec": {
   "display_name": "Python 3",
   "language": "python",
   "name": "python3"
  },
  "language_info": {
   "codemirror_mode": {
    "name": "ipython",
    "version": 2
   },
   "file_extension": ".py",
   "mimetype": "text/x-python",
   "name": "python",
   "nbconvert_exporter": "python",
   "pygments_lexer": "ipython2",
   "version": "2.7.6"
  }
 },
 "nbformat": 4,
 "nbformat_minor": 0
}
